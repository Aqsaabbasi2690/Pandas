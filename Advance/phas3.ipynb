{
 "cells": [
  {
   "cell_type": "markdown",
   "id": "179c58f8",
   "metadata": {},
   "source": [
    "## Inter-Polate()"
   ]
  },
  {
   "cell_type": "markdown",
   "id": "c41d12fe",
   "metadata": {},
   "source": [
    "technique in which fill asstimatted values in missing values. use to fill missing values in rows and collumn,df.values astimste on the base of other data point which is in numerical column."
   ]
  },
  {
   "cell_type": "markdown",
   "id": "288565a4",
   "metadata": {},
   "source": [
    "like 10,20,NaN,40,50 meams we know there is missiging value must be 30. we use this for preserve data for itegrity, replace missing values with arbitrary number. second smooth trends, where continuity matter. like a shop 1000,2000,3000.third is avoid data loss. "
   ]
  },
  {
   "cell_type": "markdown",
   "id": "6456521d",
   "metadata": {},
   "source": [
    "## Linear interpolate"
   ]
  },
  {
   "cell_type": "code",
   "execution_count": null,
   "id": "aca5a247",
   "metadata": {},
   "outputs": [
    {
     "name": "stdout",
     "output_type": "stream",
     "text": [
      "before interpolation:\n",
      "   Time  Value\n",
      "0     1   10.0\n",
      "1     2    NaN\n",
      "2     3   30.0\n",
      "3     4   40.0\n",
      "4     5    NaN\n",
      "After interpolation:\n",
      "   Time  Value\n",
      "0     1   10.0\n",
      "1     2   20.0\n",
      "2     3   30.0\n",
      "3     4   40.0\n",
      "4     5   40.0\n"
     ]
    }
   ],
   "source": [
    "import pandas as pd\n",
    "\n",
    "data = {\n",
    "    \"Time\":[1,2,3,4,5],\n",
    "    \"Value\":[10,None,30,40,None],\n",
    "}\n",
    "\n",
    "df = pd.DataFrame(data)\n",
    "print(\"before interpolation:\")\n",
    "print(df)\n",
    "\n",
    "df[\"Value\"] = df[\"Value\"].interpolate(method='linear')  # linear interpolation,polynomial,time\n",
    "# fill missing values using interpolation\n",
    "print(\"After interpolation:\")\n",
    "print(df)\n",
    "\n",
    "\n",
    "# use interpolation in timer series data like stock prices\n",
    "# numeric which follow trends\n",
    "# avoid droping rows\n",
    "# data set structured\n",
    "# we cannot work with categaries values like name , id."
   ]
  },
  {
   "cell_type": "markdown",
   "id": "c130bdd2",
   "metadata": {},
   "source": [
    "## Sorting and aggregation"
   ]
  },
  {
   "cell_type": "markdown",
   "id": "7dd9a4e7",
   "metadata": {},
   "source": [
    "##sorting data"
   ]
  },
  {
   "cell_type": "code",
   "execution_count": null,
   "id": "4efceac2",
   "metadata": {},
   "outputs": [
    {
     "name": "stdout",
     "output_type": "stream",
     "text": [
      "After sorting by Age:\n",
      "      Name  Age  Salary\n",
      "3    David   22   23700\n",
      "2  Charlie   24   70000\n",
      "0    Alice   25   50000\n",
      "1      Bob   30   60000\n",
      "After sorting by Age and Salary:\n",
      "      Name  Age  Salary\n",
      "1      Bob   30   60000\n",
      "0    Alice   25   50000\n",
      "2  Charlie   24   70000\n",
      "3    David   22   23700\n"
     ]
    }
   ],
   "source": [
    "# managing data by yourself\n",
    "\n",
    "# df.sort_value(by=\"Columns Name\", True/False,inplace = True) inplace true means value chage there\n",
    "\n",
    "import pandas as pd\n",
    "\n",
    "data = {\n",
    "    \"Name\": [\"Alice\", \"Bob\", \"Charlie\", \"David\"],\n",
    "    \"Age\": [25, 30, 24, 22],\n",
    "    \"Salary\": [50000, 60000, 70000, 23700]\n",
    "}\n",
    "# single column sorting\n",
    "df = pd.DataFrame(data)\n",
    "df.sort_values(by =\"Age\", ascending=True, inplace=True)  # sort by Age in ascending order for desending order use False\n",
    "print(\"After sorting by Age:\")\n",
    "print(df)\n",
    "\n",
    "\n",
    "#multiple column sorting\n",
    "df.sort_values(by=[\"Age\", \"Salary\"], ascending= False, inplace=True)  # sort by Age ascending and Salary descending\n",
    "print(\"After sorting by Age and Salary in descending:\")\n",
    "print(df)\n",
    "\n",
    "\n"
   ]
  },
  {
   "cell_type": "markdown",
   "id": "ac126935",
   "metadata": {},
   "source": [
    "## Aggregation"
   ]
  },
  {
   "cell_type": "markdown",
   "id": "8102ddc6",
   "metadata": {},
   "source": [
    "sums,mean,value counts\n",
    "summaring statistic numerical summary provided of column,average value ,min,max value.syntax:\n",
    "df[\"Column name\"].mean()\n",
    "df[\"Column name\"].sum()\n",
    "df[\"Column name\"].min()\n",
    "df[\"Column name\"].max()\n"
   ]
  },
  {
   "cell_type": "code",
   "execution_count": 13,
   "id": "08c4b38e",
   "metadata": {},
   "outputs": [
    {
     "name": "stdout",
     "output_type": "stream",
     "text": [
      "Average Salary: 50925.0\n"
     ]
    }
   ],
   "source": [
    "df = pd.DataFrame(data)\n",
    "avg_salary = df[\"Salary\"].mean()  # calculate average salary\n",
    "print(\"Average Salary:\", avg_salary)\n",
    "# filter data based on a condition"
   ]
  },
  {
   "cell_type": "markdown",
   "id": "56d9c201",
   "metadata": {},
   "source": [
    "##Groupings in pandas"
   ]
  },
  {
   "cell_type": "code",
   "execution_count": 17,
   "id": "f55d2e47",
   "metadata": {},
   "outputs": [
    {
     "name": "stdout",
     "output_type": "stream",
     "text": [
      "Grouped by Age and summed Salary:\n",
      "Age\n",
      "22    23700\n",
      "24    70000\n",
      "25    50000\n",
      "30    60000\n",
      "Name: Salary, dtype: int64\n"
     ]
    }
   ],
   "source": [
    "\n",
    "data = {\n",
    "    \"Name\": [\"Alice\", \"Bob\", \"Charlie\", \"David\"],\n",
    "    \"Age\": [25, 30, 24, 22],\n",
    "    \"Salary\": [50000, 60000, 70000, 23700]\n",
    "}\n",
    "df = pd.DataFrame(data)\n",
    "grouped = df.groupby(\"Age\")[\"Salary\"].sum()  # group by Age and sum Salary\n",
    "print(\"Grouped by Age and summed Salary:\")\n",
    "print(grouped)"
   ]
  },
  {
   "cell_type": "markdown",
   "id": "73264940",
   "metadata": {},
   "source": [
    "\n",
    "## multiple columns"
   ]
  },
  {
   "cell_type": "code",
   "execution_count": 18,
   "id": "e44e617e",
   "metadata": {},
   "outputs": [
    {
     "name": "stdout",
     "output_type": "stream",
     "text": [
      "Grouped by Age and Name and summed Salary:\n",
      "Age  Name   \n",
      "22   David      23700\n",
      "24   Charlie    70000\n",
      "25   Alice      50000\n",
      "30   Bob        60000\n",
      "Name: Salary, dtype: int64\n"
     ]
    }
   ],
   "source": [
    "grouped = df.groupby([\"Age\",\"Name\"])[\"Salary\"].sum()\n",
    "print(\"Grouped by Age and Name and summed Salary:\")\n",
    "print(grouped)"
   ]
  },
  {
   "cell_type": "markdown",
   "id": "d81d156d",
   "metadata": {},
   "source": [
    "## Aggregation function"
   ]
  },
  {
   "cell_type": "markdown",
   "id": "d3d959ac",
   "metadata": {},
   "source": [
    "1. sum() add groups values\n",
    "2. mean() return average value count\n",
    "3. min() return min value\n",
    "4. max() return maxvalue\n",
    "5. count() non Nan values return counts\n",
    "6. sandard daviation\n"
   ]
  }
 ],
 "metadata": {
  "kernelspec": {
   "display_name": ".venv",
   "language": "python",
   "name": "python3"
  },
  "language_info": {
   "codemirror_mode": {
    "name": "ipython",
    "version": 3
   },
   "file_extension": ".py",
   "mimetype": "text/x-python",
   "name": "python",
   "nbconvert_exporter": "python",
   "pygments_lexer": "ipython3",
   "version": "3.13.3"
  }
 },
 "nbformat": 4,
 "nbformat_minor": 5
}
