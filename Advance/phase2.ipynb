{
 "cells": [
  {
   "cell_type": "markdown",
   "id": "384e4cac",
   "metadata": {},
   "source": [
    "## Handling Missing Data"
   ]
  },
  {
   "cell_type": "markdown",
   "id": "edf33fd0",
   "metadata": {},
   "source": [
    "NaN (Not a number)\n",
    "None (for object data types)\n",
    "\n",
    "isnull() this method return value in boolean\n",
    "True _NaN is missing means value is missing\n",
    "false _ value is present means value is present\n"
   ]
  },
  {
   "cell_type": "code",
   "execution_count": null,
   "id": "ceef4c2f",
   "metadata": {},
   "outputs": [],
   "source": [
    "import pandas as pd\n",
    "\n",
    "# how to detect missing values\n",
    "data = {\n",
    "    \"Name\":['aqsa',None, 'lily', 'George'],\n",
    "    \"age\":[10,None,30,40],\n",
    "    \"city\":['lahore',None,'islamabad', 'multan'],\n",
    "    \"Salary\":[100000,None,50000,60000]\n",
    "}\n",
    "\n",
    "df = pd.DataFrame(data)\n",
    "print(df)\n",
    "\n",
    "print(df.isnull())\n",
    "\n",
    "\n",
    "# check how many values are missing in each column\n",
    "print(df.isnull().sum())\n",
    "# how many values are missing in each column"
   ]
  },
  {
   "cell_type": "code",
   "execution_count": null,
   "id": "2aa8dc1e",
   "metadata": {},
   "outputs": [],
   "source": [
    "#  now how to handle missing data\n",
    "#  remove or fill missing values which is detects\n",
    "\n",
    "# how to drop missing data, dropna remove rows or column missing values\n",
    "# axis 0 means rows, axis 1 means columns, axis means drop rows with missimg values\n",
    "# print(\"handle rows data\")\n",
    "# df.dropna(axis=0, inplace=True) \n",
    "# print(df)\n",
    "\n",
    "# fill null data with some value\n",
    "df.fillna(0, inplace=True)  # fill missing values with 0\n",
    "print(\"handle columns data\")\n",
    "print(df)\n",
    "\n",
    "\n",
    "df['Salary'] = df['Salary'].fillna(df['Salary'].mean())\n",
    "df['age'] = df['age'].fillna(df['age'].mean())\n",
    "print(df)\n",
    "\n",
    "\n",
    "\n"
   ]
  }
 ],
 "metadata": {
  "kernelspec": {
   "display_name": ".venv",
   "language": "python",
   "name": "python3"
  },
  "language_info": {
   "codemirror_mode": {
    "name": "ipython",
    "version": 3
   },
   "file_extension": ".py",
   "mimetype": "text/x-python",
   "name": "python",
   "nbconvert_exporter": "python",
   "pygments_lexer": "ipython3",
   "version": "3.13.3"
  }
 },
 "nbformat": 4,
 "nbformat_minor": 5
}
