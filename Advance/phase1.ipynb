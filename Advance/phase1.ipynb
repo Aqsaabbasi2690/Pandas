{
 "cells": [
  {
   "cell_type": "markdown",
   "id": "202d4bc5",
   "metadata": {},
   "source": [
    "## Adding columns"
   ]
  },
  {
   "cell_type": "code",
   "execution_count": 10,
   "id": "6de0b4e7",
   "metadata": {},
   "outputs": [],
   "source": [
    "import pandas as pd"
   ]
  },
  {
   "cell_type": "code",
   "execution_count": null,
   "id": "70d320ae",
   "metadata": {},
   "outputs": [],
   "source": [
    "\n",
    "data = {\n",
    "    \"Name\":['aqsa','ali', 'lily', 'john'],\n",
    "    \"age\":[10,20,30,40],\n",
    "    \"city\":['lahore','karachi','islamabad', 'multan'],\n",
    "    \"Salary\":[100000,20000,50000,60000]\n",
    "}\n",
    "\n",
    "df = pd.DataFrame(data)\n",
    "print(df)\n",
    "\n",
    "\n",
    "\n",
    "#[]df[\"coumn name\"] = some_Data, syntax of adding new numeric column\n",
    "# 1 method to add a new column with numeric data\n",
    "df[\"Bonus\"] = df[\"Salary\"] * 0.1\n",
    "print(df)\n",
    " # Adding a new column with numeric data \n",
    " #2 method to add a new column at specific position using insert,df.insert(loc,Column_Name, some_data) syntax\n",
    "df.insert(0, \"Employee_id\", [10, 20, 30, 40] )\n",
    "print(df)\n",
    "# Adding a new column at the first position"
   ]
  },
  {
   "cell_type": "markdown",
   "id": "4afed732",
   "metadata": {},
   "source": [
    "## Updating Values\n"
   ]
  },
  {
   "cell_type": "code",
   "execution_count": null,
   "id": "85ad69fa",
   "metadata": {},
   "outputs": [],
   "source": [
    "# .loc[] syntax, use to access specific cell and modify it.\n",
    "# df.;oc[row_index, column_name] = new_value\n",
    "df.loc[0, \"Salary\"] = 120000\n",
    "print(df)\n",
    "\n",
    "# access multiple rows and columns using .loc[], like increasing salary 5 %\n",
    "\n",
    "df[ \"Salary\"] = df[ \"Salary\"] * 1.05 # for whole column\n",
    "print(df)\n",
    "df.loc[0:3, \"Salary\"] = df.loc[0:3, \"Salary\"] * 1.05\n",
    "print(df)"
   ]
  },
  {
   "cell_type": "markdown",
   "id": "b72cfa35",
   "metadata": {},
   "source": [
    "## Removing Data\n"
   ]
  },
  {
   "cell_type": "code",
   "execution_count": null,
   "id": "391fbd8d",
   "metadata": {},
   "outputs": [
    {
     "name": "stdout",
     "output_type": "stream",
     "text": [
      "Modify data\n",
      "   Employee_id  Name  age       Salary    Bonus\n",
      "0           10  aqsa   10  132300.0000  10000.0\n",
      "1           20   ali   20   24310.1250   2000.0\n",
      "2           30  lily   30   60775.3125   5000.0\n",
      "3           40  john   40   69457.5000   6000.0\n"
     ]
    }
   ],
   "source": [
    "# Removing columns, rows we use drop methods\n",
    "# df.drop(columns = [\"ColumnName\"], inplace=True) syntax ,\n",
    "# inplae means it will modify the original dataframe, falsw means it will return a new dataframe\n",
    "#   removing single column\n",
    "print(\"Modify data\")\n",
    "df.drop(columns=[\"city\"], inplace=True)\n",
    "print(df)\n",
    "\n",
    "#  removing multiple columns\n",
    "df.drop(columns=[\"city\",\"age\"], inplace=True)"
   ]
  }
 ],
 "metadata": {
  "kernelspec": {
   "display_name": ".venv",
   "language": "python",
   "name": "python3"
  },
  "language_info": {
   "codemirror_mode": {
    "name": "ipython",
    "version": 3
   },
   "file_extension": ".py",
   "mimetype": "text/x-python",
   "name": "python",
   "nbconvert_exporter": "python",
   "pygments_lexer": "ipython3",
   "version": "3.13.3"
  }
 },
 "nbformat": 4,
 "nbformat_minor": 5
}
