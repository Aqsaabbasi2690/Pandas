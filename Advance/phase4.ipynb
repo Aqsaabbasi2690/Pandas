{
 "cells": [
  {
   "cell_type": "markdown",
   "id": "0db12ee3",
   "metadata": {},
   "source": [
    "## Merging & Joining"
   ]
  },
  {
   "cell_type": "markdown",
   "id": "f1cbe7d4",
   "metadata": {},
   "source": [
    "merging df means 2 or more than df columns or rows combine base on a key column. Syntax:\n",
    "pd.merge(df1,df2,on=\"ColumnName\", how=\"type pf join\") 5 types of join are: left,right,inner,outer,cross"
   ]
  },
  {
   "cell_type": "code",
   "execution_count": null,
   "id": "23baf348",
   "metadata": {},
   "outputs": [
    {
     "name": "stdout",
     "output_type": "stream",
     "text": [
      "right_join\n",
      "   CustomerID   Name  Amount\n",
      "0           1  Alice   250.0\n",
      "1           2    Bob   150.0\n",
      "2           4    NaN   300.0\n",
      "cross_join\n",
      "   CustomerID_x     Name  CustomerID_y  Amount\n",
      "0             1    Alice             1   250.0\n",
      "1             1    Alice             2   150.0\n",
      "2             1    Alice             4   300.0\n",
      "3             2      Bob             1   250.0\n",
      "4             2      Bob             2   150.0\n",
      "5             2      Bob             4   300.0\n",
      "6             3  Charlie             1   250.0\n",
      "7             3  Charlie             2   150.0\n",
      "8             3  Charlie             4   300.0\n"
     ]
    }
   ],
   "source": [
    "import pandas as pd\n",
    "\n",
    "#customer df\n",
    "df_customers = pd.DataFrame({\n",
    "    \"CustomerID\":[1,2,3],\n",
    "    'Name':['Alice', 'Bob', 'Charlie'],\n",
    "})\n",
    "\n",
    "\n",
    "#order df\n",
    "df_order = pd.DataFrame({\n",
    "    'CustomerID':[1, 2, 4],\n",
    "    'Amount':[250.00, 150.00, 300.00],\n",
    "})\n",
    "\n",
    "# Merge the dataframes on CustomerID\n",
    "df_merged = pd.merge(df_customers, df_order, on='CustomerID', how='right')\n",
    "print('right_join')\n",
    "print(df_merged)\n",
    "\n",
    "#cross join combine two rows of two dataframes\n",
    "# without any condition, it creates a Cartesian product of the two dataframes.\n",
    "# 1df = m rows\n",
    "# 2df = n rows\n",
    "# cross join = m * n rows we use this when we want to combine all rows of one df with all rows of another df\n",
    "df_cross = pd.merge(df_customers, df_order, how='cross')\n",
    "print('cross_join')\n",
    "print(df_cross)"
   ]
  },
  {
   "cell_type": "markdown",
   "id": "3ccacd0e",
   "metadata": {},
   "source": [
    "## Concatenation df"
   ]
  },
  {
   "cell_type": "markdown",
   "id": "04770ed2",
   "metadata": {},
   "source": [
    "means combine df vertically(rows) or horizontally (column). Syntax:\n",
    "pd.concate([df1,df2], axis =0, ignore_index = True) df1 and df2 means list of df which concatenate. ignore index means index reset combine df which is make.\n"
   ]
  },
  {
   "cell_type": "code",
   "execution_count": 12,
   "id": "1b1a9199",
   "metadata": {},
   "outputs": [
    {
     "name": "stdout",
     "output_type": "stream",
     "text": [
      "vertically concatenate\n",
      "   RegionID RegionName\n",
      "0         1     George\n",
      "1         2      Akice\n",
      "2         3    Charlie\n",
      "3         4       lily\n",
      "4         5       Rose\n",
      "5         6      Tulip\n"
     ]
    }
   ],
   "source": [
    "#vertially concatenate\n",
    "# region1\n",
    "df_Region1 = pd.DataFrame({\n",
    "    'RegionID':[1, 2, 3],\n",
    "    'RegionName':['George', 'Akice', 'Charlie'],\n",
    "})\n",
    "\n",
    "# region2\n",
    "df_Region2= pd.DataFrame({\n",
    "    'RegionID':[4, 5, 6],\n",
    "    'RegionName':['lily', 'Rose', 'Tulip'],\n",
    "})\n",
    "# Concatenate the two dataframes vertically\n",
    "df_concat = pd.concat([df_Region1, df_Region2], axis=0, ignore_index=True)\n",
    "print('vertically concatenate')\n",
    "print(df_concat)"
   ]
  }
 ],
 "metadata": {
  "kernelspec": {
   "display_name": ".venv",
   "language": "python",
   "name": "python3"
  },
  "language_info": {
   "codemirror_mode": {
    "name": "ipython",
    "version": 3
   },
   "file_extension": ".py",
   "mimetype": "text/x-python",
   "name": "python",
   "nbconvert_exporter": "python",
   "pygments_lexer": "ipython3",
   "version": "3.13.3"
  }
 },
 "nbformat": 4,
 "nbformat_minor": 5
}
